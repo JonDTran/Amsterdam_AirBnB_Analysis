{
 "cells": [
  {
   "cell_type": "markdown",
   "id": "869f8e3f",
   "metadata": {},
   "source": [
    "# 01. Importing Libraries"
   ]
  },
  {
   "cell_type": "code",
   "execution_count": 1,
   "id": "767e2a4e",
   "metadata": {},
   "outputs": [],
   "source": [
    "#importing necessary libraries to verify/clean data and setting display options to be able to view all\n",
    "\n",
    "import pandas as pd\n",
    "import numpy as np\n",
    "import os\n",
    "\n",
    "pd.set_option('display.max_rows', 500)\n",
    "pd.set_option('display.max_columns', 500)\n",
    "pd.set_option('display.width', 1000)"
   ]
  },
  {
   "cell_type": "code",
   "execution_count": 2,
   "id": "0a4104b7",
   "metadata": {},
   "outputs": [],
   "source": [
    "#defining path\n",
    "\n",
    "path = r'C:\\Users\\Jonathan\\Desktop\\Amsterdam AirBnB'"
   ]
  },
  {
   "cell_type": "code",
   "execution_count": 3,
   "id": "e3355140",
   "metadata": {
    "scrolled": true
   },
   "outputs": [],
   "source": [
    "#import calendar dataset to check and clean.\n",
    "\n",
    "calendar = pd.read_csv(os.path.join(path, '02 Data', 'Original Data', 'calendar.csv'), index_col = False)"
   ]
  },
  {
   "cell_type": "code",
   "execution_count": 4,
   "id": "c57d7c50",
   "metadata": {},
   "outputs": [],
   "source": [
    "#import listing dataset to check and clean\n",
    "\n",
    "listing = pd.read_csv(os.path.join(path, '02 Data', 'Original Data', 'listings.csv'), index_col = False)"
   ]
  },
  {
   "cell_type": "code",
   "execution_count": 5,
   "id": "6ebc6748",
   "metadata": {
    "scrolled": true
   },
   "outputs": [],
   "source": [
    "#import listing_details dataset to check and clean;\n",
    "\n",
    "listings_details = pd.read_csv(os.path.join(path, '02 Data', 'Original Data', 'listings_details.csv'), low_memory = False, index_col = False)\n",
    "\n",
    "#this dataset had mixed datatypes so I had to include low_memory = False to let Panads know it's okay to use memory to identify the dtype"
   ]
  },
  {
   "cell_type": "code",
   "execution_count": 6,
   "id": "107c3dcb",
   "metadata": {},
   "outputs": [],
   "source": [
    "#import neighbourhoods dataset to check and clean\n",
    "\n",
    "neighbour = pd.read_csv(os.path.join(path, '02 Data', 'Original Data', 'neighbourhoods.csv'), index_col = False)"
   ]
  },
  {
   "cell_type": "code",
   "execution_count": 7,
   "id": "ea1c4da4",
   "metadata": {},
   "outputs": [],
   "source": [
    "#import reviews dataset to check and clean\n",
    "\n",
    "reviews = pd.read_csv(os.path.join(path, '02 Data', 'Original Data', 'reviews.csv'), index_col = False)"
   ]
  },
  {
   "cell_type": "code",
   "execution_count": 8,
   "id": "5e275fc3",
   "metadata": {},
   "outputs": [],
   "source": [
    "#import reviews_details dataset to check and clean\n",
    "\n",
    "reviews_details = pd.read_csv(os.path.join(path, '02 Data', 'Original Data', 'reviews_details.csv'), index_col = False)"
   ]
  },
  {
   "cell_type": "code",
   "execution_count": 9,
   "id": "f6d309d1",
   "metadata": {},
   "outputs": [
    {
     "data": {
      "text/plain": [
       "listing_id          0\n",
       "date                0\n",
       "available           0\n",
       "price         6110879\n",
       "dtype: int64"
      ]
     },
     "execution_count": 9,
     "metadata": {},
     "output_type": "execute_result"
    }
   ],
   "source": [
    "#checking calendar for null values\n",
    "\n",
    "calendar.isnull().sum()"
   ]
  },
  {
   "cell_type": "code",
   "execution_count": 10,
   "id": "a819611b",
   "metadata": {},
   "outputs": [
    {
     "data": {
      "text/plain": [
       "(7310950, 4)"
      ]
     },
     "execution_count": 10,
     "metadata": {},
     "output_type": "execute_result"
    }
   ],
   "source": [
    "#checking the shape of calendar\n",
    "\n",
    "calendar.shape"
   ]
  },
  {
   "cell_type": "code",
   "execution_count": 11,
   "id": "c7ad5a65",
   "metadata": {},
   "outputs": [],
   "source": [
    "#remove price column because a majority of column is null\n",
    "\n",
    "df_cal = calendar.drop(['price'],axis=1)"
   ]
  },
  {
   "cell_type": "code",
   "execution_count": 12,
   "id": "7defae89",
   "metadata": {},
   "outputs": [],
   "source": [
    "#identifying duplicate values in data set\n",
    "\n",
    "calendar_dups = calendar[calendar.duplicated()]"
   ]
  },
  {
   "cell_type": "code",
   "execution_count": 13,
   "id": "aea983f5",
   "metadata": {},
   "outputs": [
    {
     "data": {
      "text/html": [
       "<div>\n",
       "<style scoped>\n",
       "    .dataframe tbody tr th:only-of-type {\n",
       "        vertical-align: middle;\n",
       "    }\n",
       "\n",
       "    .dataframe tbody tr th {\n",
       "        vertical-align: top;\n",
       "    }\n",
       "\n",
       "    .dataframe thead th {\n",
       "        text-align: right;\n",
       "    }\n",
       "</style>\n",
       "<table border=\"1\" class=\"dataframe\">\n",
       "  <thead>\n",
       "    <tr style=\"text-align: right;\">\n",
       "      <th></th>\n",
       "      <th>listing_id</th>\n",
       "      <th>date</th>\n",
       "      <th>available</th>\n",
       "      <th>price</th>\n",
       "    </tr>\n",
       "  </thead>\n",
       "  <tbody>\n",
       "  </tbody>\n",
       "</table>\n",
       "</div>"
      ],
      "text/plain": [
       "Empty DataFrame\n",
       "Columns: [listing_id, date, available, price]\n",
       "Index: []"
      ]
     },
     "execution_count": 13,
     "metadata": {},
     "output_type": "execute_result"
    }
   ],
   "source": [
    "#checking for duplicate values\n",
    "\n",
    "calendar_dups"
   ]
  },
  {
   "cell_type": "code",
   "execution_count": 14,
   "id": "9c3caa7b",
   "metadata": {},
   "outputs": [
    {
     "data": {
      "text/plain": [
       "id                                    0\n",
       "name                                 38\n",
       "host_id                               0\n",
       "host_name                             4\n",
       "neighbourhood_group               20030\n",
       "neighbourhood                         0\n",
       "latitude                              0\n",
       "longitude                             0\n",
       "room_type                             0\n",
       "price                                 0\n",
       "minimum_nights                        0\n",
       "number_of_reviews                     0\n",
       "last_review                        2406\n",
       "reviews_per_month                  2406\n",
       "calculated_host_listings_count        0\n",
       "availability_365                      0\n",
       "dtype: int64"
      ]
     },
     "execution_count": 14,
     "metadata": {},
     "output_type": "execute_result"
    }
   ],
   "source": [
    "#checking listing for null values\n",
    "\n",
    "listing.isnull().sum()"
   ]
  },
  {
   "cell_type": "code",
   "execution_count": 15,
   "id": "8a7ae7bb",
   "metadata": {},
   "outputs": [
    {
     "data": {
      "text/plain": [
       "(20030, 16)"
      ]
     },
     "execution_count": 15,
     "metadata": {},
     "output_type": "execute_result"
    }
   ],
   "source": [
    "#checking the shape of listing\n",
    "\n",
    "listing.shape"
   ]
  },
  {
   "cell_type": "code",
   "execution_count": 16,
   "id": "a02e9933",
   "metadata": {},
   "outputs": [],
   "source": [
    "#remove neighbourhood_group column because the entire column is null\n",
    "\n",
    "df_list = listing.drop(['neighbourhood_group'],axis=1)"
   ]
  },
  {
   "cell_type": "code",
   "execution_count": 17,
   "id": "cdeb1830",
   "metadata": {},
   "outputs": [],
   "source": [
    "#identifying duplicate values in data set\n",
    "\n",
    "listing_dups = listing[listing.duplicated()]"
   ]
  },
  {
   "cell_type": "code",
   "execution_count": 18,
   "id": "be7d3caa",
   "metadata": {},
   "outputs": [
    {
     "data": {
      "text/html": [
       "<div>\n",
       "<style scoped>\n",
       "    .dataframe tbody tr th:only-of-type {\n",
       "        vertical-align: middle;\n",
       "    }\n",
       "\n",
       "    .dataframe tbody tr th {\n",
       "        vertical-align: top;\n",
       "    }\n",
       "\n",
       "    .dataframe thead th {\n",
       "        text-align: right;\n",
       "    }\n",
       "</style>\n",
       "<table border=\"1\" class=\"dataframe\">\n",
       "  <thead>\n",
       "    <tr style=\"text-align: right;\">\n",
       "      <th></th>\n",
       "      <th>id</th>\n",
       "      <th>name</th>\n",
       "      <th>host_id</th>\n",
       "      <th>host_name</th>\n",
       "      <th>neighbourhood_group</th>\n",
       "      <th>neighbourhood</th>\n",
       "      <th>latitude</th>\n",
       "      <th>longitude</th>\n",
       "      <th>room_type</th>\n",
       "      <th>price</th>\n",
       "      <th>minimum_nights</th>\n",
       "      <th>number_of_reviews</th>\n",
       "      <th>last_review</th>\n",
       "      <th>reviews_per_month</th>\n",
       "      <th>calculated_host_listings_count</th>\n",
       "      <th>availability_365</th>\n",
       "    </tr>\n",
       "  </thead>\n",
       "  <tbody>\n",
       "  </tbody>\n",
       "</table>\n",
       "</div>"
      ],
      "text/plain": [
       "Empty DataFrame\n",
       "Columns: [id, name, host_id, host_name, neighbourhood_group, neighbourhood, latitude, longitude, room_type, price, minimum_nights, number_of_reviews, last_review, reviews_per_month, calculated_host_listings_count, availability_365]\n",
       "Index: []"
      ]
     },
     "execution_count": 18,
     "metadata": {},
     "output_type": "execute_result"
    }
   ],
   "source": [
    "#checking for duplicate values\n",
    "\n",
    "listing_dups"
   ]
  },
  {
   "cell_type": "code",
   "execution_count": 19,
   "id": "82f0b4d9",
   "metadata": {},
   "outputs": [
    {
     "data": {
      "text/plain": [
       "id                                      0\n",
       "listing_url                             0\n",
       "scrape_id                               0\n",
       "last_scraped                            0\n",
       "name                                   38\n",
       "summary                               520\n",
       "space                                5451\n",
       "description                           124\n",
       "experiences_offered                     0\n",
       "neighborhood_overview                6773\n",
       "notes                               10999\n",
       "transit                              6395\n",
       "access                               7803\n",
       "interaction                          8056\n",
       "house_rules                          7459\n",
       "thumbnail_url                       20030\n",
       "medium_url                          20030\n",
       "picture_url                             0\n",
       "xl_picture_url                      20030\n",
       "host_id                                 0\n",
       "host_url                                0\n",
       "host_name                               4\n",
       "host_since                              4\n",
       "host_location                          39\n",
       "host_about                           8227\n",
       "host_response_time                   9483\n",
       "host_response_rate                   9483\n",
       "host_acceptance_rate                20030\n",
       "host_is_superhost                       4\n",
       "host_thumbnail_url                      4\n",
       "host_picture_url                        4\n",
       "host_neighbourhood                   5808\n",
       "host_listings_count                     4\n",
       "host_total_listings_count               4\n",
       "host_verifications                      0\n",
       "host_has_profile_pic                    4\n",
       "host_identity_verified                  4\n",
       "street                                  0\n",
       "neighbourhood                        1653\n",
       "neighbourhood_cleansed                  0\n",
       "neighbourhood_group_cleansed        20030\n",
       "city                                    4\n",
       "state                                 127\n",
       "zipcode                               866\n",
       "market                                 42\n",
       "smart_location                          0\n",
       "country_code                            0\n",
       "country                                 0\n",
       "latitude                                0\n",
       "longitude                               0\n",
       "is_location_exact                       0\n",
       "property_type                           0\n",
       "room_type                               0\n",
       "accommodates                            0\n",
       "bathrooms                              10\n",
       "bedrooms                                8\n",
       "beds                                    7\n",
       "bed_type                                0\n",
       "amenities                               0\n",
       "square_feet                         19624\n",
       "price                                   0\n",
       "weekly_price                        17187\n",
       "monthly_price                       18469\n",
       "security_deposit                     6166\n",
       "cleaning_fee                         3629\n",
       "guests_included                         0\n",
       "extra_people                            0\n",
       "minimum_nights                          0\n",
       "maximum_nights                          0\n",
       "calendar_updated                        0\n",
       "has_availability                        0\n",
       "availability_30                         0\n",
       "availability_60                         0\n",
       "availability_90                         0\n",
       "availability_365                        0\n",
       "calendar_last_scraped                   0\n",
       "number_of_reviews                       0\n",
       "first_review                         2406\n",
       "last_review                          2406\n",
       "review_scores_rating                 2639\n",
       "review_scores_accuracy               2649\n",
       "review_scores_cleanliness            2647\n",
       "review_scores_checkin                2661\n",
       "review_scores_communication          2652\n",
       "review_scores_location               2660\n",
       "review_scores_value                  2659\n",
       "requires_license                        0\n",
       "license                             20021\n",
       "jurisdiction_names                    672\n",
       "instant_bookable                        0\n",
       "is_business_travel_ready                0\n",
       "cancellation_policy                     0\n",
       "require_guest_profile_picture           0\n",
       "require_guest_phone_verification        0\n",
       "calculated_host_listings_count          0\n",
       "reviews_per_month                    2406\n",
       "dtype: int64"
      ]
     },
     "execution_count": 19,
     "metadata": {},
     "output_type": "execute_result"
    }
   ],
   "source": [
    "#checking listing_details for null values\n",
    "\n",
    "listings_details.isnull().sum()"
   ]
  },
  {
   "cell_type": "code",
   "execution_count": 20,
   "id": "a4dbcb62",
   "metadata": {},
   "outputs": [
    {
     "data": {
      "text/plain": [
       "(20030, 96)"
      ]
     },
     "execution_count": 20,
     "metadata": {},
     "output_type": "execute_result"
    }
   ],
   "source": [
    "#checking the shape of listings_details\n",
    "\n",
    "listings_details.shape"
   ]
  },
  {
   "cell_type": "code",
   "execution_count": 21,
   "id": "3ca84084",
   "metadata": {},
   "outputs": [],
   "source": [
    "#removing columns thumbnail_url, medium_url, xl_picture_url, host_acceptance_rate, neighbourhood_group_cleansed, license, square_feet, monthly_price, and weekly_price for incomplete data over 80%\n",
    "\n",
    "df_listings_details = listings_details.drop(['thumbnail_url', 'medium_url', 'xl_picture_url', 'host_acceptance_rate', 'neighbourhood_group_cleansed', 'license', 'square_feet', 'monthly_price', 'weekly_price'],axis=1)"
   ]
  },
  {
   "cell_type": "code",
   "execution_count": 22,
   "id": "f52b994f",
   "metadata": {},
   "outputs": [],
   "source": [
    "#identifying duplicate values in data set\n",
    "\n",
    "listings_details_dups = listings_details[listings_details.duplicated()]"
   ]
  },
  {
   "cell_type": "code",
   "execution_count": 23,
   "id": "afb6454c",
   "metadata": {},
   "outputs": [
    {
     "data": {
      "text/html": [
       "<div>\n",
       "<style scoped>\n",
       "    .dataframe tbody tr th:only-of-type {\n",
       "        vertical-align: middle;\n",
       "    }\n",
       "\n",
       "    .dataframe tbody tr th {\n",
       "        vertical-align: top;\n",
       "    }\n",
       "\n",
       "    .dataframe thead th {\n",
       "        text-align: right;\n",
       "    }\n",
       "</style>\n",
       "<table border=\"1\" class=\"dataframe\">\n",
       "  <thead>\n",
       "    <tr style=\"text-align: right;\">\n",
       "      <th></th>\n",
       "      <th>id</th>\n",
       "      <th>listing_url</th>\n",
       "      <th>scrape_id</th>\n",
       "      <th>last_scraped</th>\n",
       "      <th>name</th>\n",
       "      <th>summary</th>\n",
       "      <th>space</th>\n",
       "      <th>description</th>\n",
       "      <th>experiences_offered</th>\n",
       "      <th>neighborhood_overview</th>\n",
       "      <th>notes</th>\n",
       "      <th>transit</th>\n",
       "      <th>access</th>\n",
       "      <th>interaction</th>\n",
       "      <th>house_rules</th>\n",
       "      <th>thumbnail_url</th>\n",
       "      <th>medium_url</th>\n",
       "      <th>picture_url</th>\n",
       "      <th>xl_picture_url</th>\n",
       "      <th>host_id</th>\n",
       "      <th>host_url</th>\n",
       "      <th>host_name</th>\n",
       "      <th>host_since</th>\n",
       "      <th>host_location</th>\n",
       "      <th>host_about</th>\n",
       "      <th>host_response_time</th>\n",
       "      <th>host_response_rate</th>\n",
       "      <th>host_acceptance_rate</th>\n",
       "      <th>host_is_superhost</th>\n",
       "      <th>host_thumbnail_url</th>\n",
       "      <th>host_picture_url</th>\n",
       "      <th>host_neighbourhood</th>\n",
       "      <th>host_listings_count</th>\n",
       "      <th>host_total_listings_count</th>\n",
       "      <th>host_verifications</th>\n",
       "      <th>host_has_profile_pic</th>\n",
       "      <th>host_identity_verified</th>\n",
       "      <th>street</th>\n",
       "      <th>neighbourhood</th>\n",
       "      <th>neighbourhood_cleansed</th>\n",
       "      <th>neighbourhood_group_cleansed</th>\n",
       "      <th>city</th>\n",
       "      <th>state</th>\n",
       "      <th>zipcode</th>\n",
       "      <th>market</th>\n",
       "      <th>smart_location</th>\n",
       "      <th>country_code</th>\n",
       "      <th>country</th>\n",
       "      <th>latitude</th>\n",
       "      <th>longitude</th>\n",
       "      <th>is_location_exact</th>\n",
       "      <th>property_type</th>\n",
       "      <th>room_type</th>\n",
       "      <th>accommodates</th>\n",
       "      <th>bathrooms</th>\n",
       "      <th>bedrooms</th>\n",
       "      <th>beds</th>\n",
       "      <th>bed_type</th>\n",
       "      <th>amenities</th>\n",
       "      <th>square_feet</th>\n",
       "      <th>price</th>\n",
       "      <th>weekly_price</th>\n",
       "      <th>monthly_price</th>\n",
       "      <th>security_deposit</th>\n",
       "      <th>cleaning_fee</th>\n",
       "      <th>guests_included</th>\n",
       "      <th>extra_people</th>\n",
       "      <th>minimum_nights</th>\n",
       "      <th>maximum_nights</th>\n",
       "      <th>calendar_updated</th>\n",
       "      <th>has_availability</th>\n",
       "      <th>availability_30</th>\n",
       "      <th>availability_60</th>\n",
       "      <th>availability_90</th>\n",
       "      <th>availability_365</th>\n",
       "      <th>calendar_last_scraped</th>\n",
       "      <th>number_of_reviews</th>\n",
       "      <th>first_review</th>\n",
       "      <th>last_review</th>\n",
       "      <th>review_scores_rating</th>\n",
       "      <th>review_scores_accuracy</th>\n",
       "      <th>review_scores_cleanliness</th>\n",
       "      <th>review_scores_checkin</th>\n",
       "      <th>review_scores_communication</th>\n",
       "      <th>review_scores_location</th>\n",
       "      <th>review_scores_value</th>\n",
       "      <th>requires_license</th>\n",
       "      <th>license</th>\n",
       "      <th>jurisdiction_names</th>\n",
       "      <th>instant_bookable</th>\n",
       "      <th>is_business_travel_ready</th>\n",
       "      <th>cancellation_policy</th>\n",
       "      <th>require_guest_profile_picture</th>\n",
       "      <th>require_guest_phone_verification</th>\n",
       "      <th>calculated_host_listings_count</th>\n",
       "      <th>reviews_per_month</th>\n",
       "    </tr>\n",
       "  </thead>\n",
       "  <tbody>\n",
       "  </tbody>\n",
       "</table>\n",
       "</div>"
      ],
      "text/plain": [
       "Empty DataFrame\n",
       "Columns: [id, listing_url, scrape_id, last_scraped, name, summary, space, description, experiences_offered, neighborhood_overview, notes, transit, access, interaction, house_rules, thumbnail_url, medium_url, picture_url, xl_picture_url, host_id, host_url, host_name, host_since, host_location, host_about, host_response_time, host_response_rate, host_acceptance_rate, host_is_superhost, host_thumbnail_url, host_picture_url, host_neighbourhood, host_listings_count, host_total_listings_count, host_verifications, host_has_profile_pic, host_identity_verified, street, neighbourhood, neighbourhood_cleansed, neighbourhood_group_cleansed, city, state, zipcode, market, smart_location, country_code, country, latitude, longitude, is_location_exact, property_type, room_type, accommodates, bathrooms, bedrooms, beds, bed_type, amenities, square_feet, price, weekly_price, monthly_price, security_deposit, cleaning_fee, guests_included, extra_people, minimum_nights, maximum_nights, calendar_updated, has_availability, availability_30, availability_60, availability_90, availability_365, calendar_last_scraped, number_of_reviews, first_review, last_review, review_scores_rating, review_scores_accuracy, review_scores_cleanliness, review_scores_checkin, review_scores_communication, review_scores_location, review_scores_value, requires_license, license, jurisdiction_names, instant_bookable, is_business_travel_ready, cancellation_policy, require_guest_profile_picture, require_guest_phone_verification, calculated_host_listings_count, reviews_per_month]\n",
       "Index: []"
      ]
     },
     "execution_count": 23,
     "metadata": {},
     "output_type": "execute_result"
    }
   ],
   "source": [
    "#checking for duplicate values\n",
    "\n",
    "listings_details_dups"
   ]
  },
  {
   "cell_type": "code",
   "execution_count": 24,
   "id": "1a7f76aa",
   "metadata": {},
   "outputs": [
    {
     "data": {
      "text/plain": [
       "neighbourhood_group    22\n",
       "neighbourhood           0\n",
       "dtype: int64"
      ]
     },
     "execution_count": 24,
     "metadata": {},
     "output_type": "execute_result"
    }
   ],
   "source": [
    "#checking neighbourhoods for null values\n",
    "\n",
    "neighbour.isnull().sum()"
   ]
  },
  {
   "cell_type": "code",
   "execution_count": 25,
   "id": "3cf152ea",
   "metadata": {},
   "outputs": [
    {
     "data": {
      "text/plain": [
       "(22, 2)"
      ]
     },
     "execution_count": 25,
     "metadata": {},
     "output_type": "execute_result"
    }
   ],
   "source": [
    "#checking the shape of neighbourhoods\n",
    "\n",
    "neighbour.shape"
   ]
  },
  {
   "cell_type": "code",
   "execution_count": 26,
   "id": "4e922dd3",
   "metadata": {},
   "outputs": [],
   "source": [
    "#removing neighbourhood_group column for null data\n",
    "\n",
    "df_neighbour = neighbour.drop(['neighbourhood_group'],axis=1)"
   ]
  },
  {
   "cell_type": "code",
   "execution_count": 27,
   "id": "914443d4",
   "metadata": {},
   "outputs": [],
   "source": [
    "#identifying duplicate values in data set\n",
    "\n",
    "neighbour_dups = neighbour[neighbour.duplicated()]"
   ]
  },
  {
   "cell_type": "code",
   "execution_count": 28,
   "id": "cd062f91",
   "metadata": {},
   "outputs": [
    {
     "data": {
      "text/html": [
       "<div>\n",
       "<style scoped>\n",
       "    .dataframe tbody tr th:only-of-type {\n",
       "        vertical-align: middle;\n",
       "    }\n",
       "\n",
       "    .dataframe tbody tr th {\n",
       "        vertical-align: top;\n",
       "    }\n",
       "\n",
       "    .dataframe thead th {\n",
       "        text-align: right;\n",
       "    }\n",
       "</style>\n",
       "<table border=\"1\" class=\"dataframe\">\n",
       "  <thead>\n",
       "    <tr style=\"text-align: right;\">\n",
       "      <th></th>\n",
       "      <th>neighbourhood_group</th>\n",
       "      <th>neighbourhood</th>\n",
       "    </tr>\n",
       "  </thead>\n",
       "  <tbody>\n",
       "  </tbody>\n",
       "</table>\n",
       "</div>"
      ],
      "text/plain": [
       "Empty DataFrame\n",
       "Columns: [neighbourhood_group, neighbourhood]\n",
       "Index: []"
      ]
     },
     "execution_count": 28,
     "metadata": {},
     "output_type": "execute_result"
    }
   ],
   "source": [
    "#checking for duplicate values\n",
    "\n",
    "neighbour_dups"
   ]
  },
  {
   "cell_type": "code",
   "execution_count": 29,
   "id": "801183f6",
   "metadata": {},
   "outputs": [
    {
     "data": {
      "text/plain": [
       "listing_id    0\n",
       "date          0\n",
       "dtype: int64"
      ]
     },
     "execution_count": 29,
     "metadata": {},
     "output_type": "execute_result"
    }
   ],
   "source": [
    "#checking reviews for null values\n",
    "\n",
    "reviews.isnull().sum()"
   ]
  },
  {
   "cell_type": "code",
   "execution_count": 30,
   "id": "29698bf9",
   "metadata": {},
   "outputs": [
    {
     "data": {
      "text/plain": [
       "(431830, 2)"
      ]
     },
     "execution_count": 30,
     "metadata": {},
     "output_type": "execute_result"
    }
   ],
   "source": [
    "#checking the shape of reviews\n",
    "\n",
    "reviews.shape"
   ]
  },
  {
   "cell_type": "code",
   "execution_count": 31,
   "id": "0a87566c",
   "metadata": {},
   "outputs": [],
   "source": [
    "#identifying duplicate values in data set\n",
    "\n",
    "reviews_dups = reviews[reviews.duplicated()]"
   ]
  },
  {
   "cell_type": "code",
   "execution_count": 32,
   "id": "e9f4df45",
   "metadata": {},
   "outputs": [
    {
     "data": {
      "text/html": [
       "<div>\n",
       "<style scoped>\n",
       "    .dataframe tbody tr th:only-of-type {\n",
       "        vertical-align: middle;\n",
       "    }\n",
       "\n",
       "    .dataframe tbody tr th {\n",
       "        vertical-align: top;\n",
       "    }\n",
       "\n",
       "    .dataframe thead th {\n",
       "        text-align: right;\n",
       "    }\n",
       "</style>\n",
       "<table border=\"1\" class=\"dataframe\">\n",
       "  <thead>\n",
       "    <tr style=\"text-align: right;\">\n",
       "      <th></th>\n",
       "      <th>listing_id</th>\n",
       "      <th>date</th>\n",
       "    </tr>\n",
       "  </thead>\n",
       "  <tbody>\n",
       "    <tr>\n",
       "      <th>367</th>\n",
       "      <td>20168</td>\n",
       "      <td>2016-01-05</td>\n",
       "    </tr>\n",
       "    <tr>\n",
       "      <th>1220</th>\n",
       "      <td>28871</td>\n",
       "      <td>2017-08-29</td>\n",
       "    </tr>\n",
       "    <tr>\n",
       "      <th>1506</th>\n",
       "      <td>29051</td>\n",
       "      <td>2016-03-10</td>\n",
       "    </tr>\n",
       "    <tr>\n",
       "      <th>2620</th>\n",
       "      <td>47061</td>\n",
       "      <td>2011-10-16</td>\n",
       "    </tr>\n",
       "    <tr>\n",
       "      <th>3036</th>\n",
       "      <td>50515</td>\n",
       "      <td>2014-04-17</td>\n",
       "    </tr>\n",
       "    <tr>\n",
       "      <th>...</th>\n",
       "      <td>...</td>\n",
       "      <td>...</td>\n",
       "    </tr>\n",
       "    <tr>\n",
       "      <th>431809</th>\n",
       "      <td>30248825</td>\n",
       "      <td>2018-11-28</td>\n",
       "    </tr>\n",
       "    <tr>\n",
       "      <th>431815</th>\n",
       "      <td>30339819</td>\n",
       "      <td>2018-11-28</td>\n",
       "    </tr>\n",
       "    <tr>\n",
       "      <th>431816</th>\n",
       "      <td>30339819</td>\n",
       "      <td>2018-11-28</td>\n",
       "    </tr>\n",
       "    <tr>\n",
       "      <th>431817</th>\n",
       "      <td>30339819</td>\n",
       "      <td>2018-11-28</td>\n",
       "    </tr>\n",
       "    <tr>\n",
       "      <th>431818</th>\n",
       "      <td>30339819</td>\n",
       "      <td>2018-11-28</td>\n",
       "    </tr>\n",
       "  </tbody>\n",
       "</table>\n",
       "<p>1321 rows × 2 columns</p>\n",
       "</div>"
      ],
      "text/plain": [
       "        listing_id        date\n",
       "367          20168  2016-01-05\n",
       "1220         28871  2017-08-29\n",
       "1506         29051  2016-03-10\n",
       "2620         47061  2011-10-16\n",
       "3036         50515  2014-04-17\n",
       "...            ...         ...\n",
       "431809    30248825  2018-11-28\n",
       "431815    30339819  2018-11-28\n",
       "431816    30339819  2018-11-28\n",
       "431817    30339819  2018-11-28\n",
       "431818    30339819  2018-11-28\n",
       "\n",
       "[1321 rows x 2 columns]"
      ]
     },
     "execution_count": 32,
     "metadata": {},
     "output_type": "execute_result"
    }
   ],
   "source": [
    "#checking for duplicate values\n",
    "\n",
    "reviews_dups"
   ]
  },
  {
   "cell_type": "code",
   "execution_count": 33,
   "id": "cd05e1e7",
   "metadata": {},
   "outputs": [],
   "source": [
    "#removing duplicate values\n",
    "\n",
    "df_reviews = reviews.drop_duplicates()"
   ]
  },
  {
   "cell_type": "code",
   "execution_count": 34,
   "id": "5787fa0f",
   "metadata": {},
   "outputs": [
    {
     "data": {
      "text/plain": [
       "(430509, 2)"
      ]
     },
     "execution_count": 34,
     "metadata": {},
     "output_type": "execute_result"
    }
   ],
   "source": [
    "#checking if duplicates were removed\n",
    "\n",
    "df_reviews.shape"
   ]
  },
  {
   "cell_type": "code",
   "execution_count": 35,
   "id": "f3b6621a",
   "metadata": {},
   "outputs": [
    {
     "data": {
      "text/plain": [
       "listing_id         0\n",
       "id                 0\n",
       "date               0\n",
       "reviewer_id        0\n",
       "reviewer_name      0\n",
       "comments         530\n",
       "dtype: int64"
      ]
     },
     "execution_count": 35,
     "metadata": {},
     "output_type": "execute_result"
    }
   ],
   "source": [
    "#checking reviews_details for null values\n",
    "\n",
    "reviews_details.isnull().sum()"
   ]
  },
  {
   "cell_type": "code",
   "execution_count": 36,
   "id": "2e72e8d8",
   "metadata": {},
   "outputs": [
    {
     "data": {
      "text/plain": [
       "(431830, 6)"
      ]
     },
     "execution_count": 36,
     "metadata": {},
     "output_type": "execute_result"
    }
   ],
   "source": [
    "#checking the shape of reviews_details\n",
    "\n",
    "reviews_details.shape"
   ]
  },
  {
   "cell_type": "code",
   "execution_count": 37,
   "id": "d1309bde",
   "metadata": {},
   "outputs": [],
   "source": [
    "#identifying duplicate values in data set\n",
    "\n",
    "reviews_details_dups = reviews_details[reviews_details.duplicated()]"
   ]
  },
  {
   "cell_type": "code",
   "execution_count": 38,
   "id": "c3171b62",
   "metadata": {},
   "outputs": [
    {
     "data": {
      "text/html": [
       "<div>\n",
       "<style scoped>\n",
       "    .dataframe tbody tr th:only-of-type {\n",
       "        vertical-align: middle;\n",
       "    }\n",
       "\n",
       "    .dataframe tbody tr th {\n",
       "        vertical-align: top;\n",
       "    }\n",
       "\n",
       "    .dataframe thead th {\n",
       "        text-align: right;\n",
       "    }\n",
       "</style>\n",
       "<table border=\"1\" class=\"dataframe\">\n",
       "  <thead>\n",
       "    <tr style=\"text-align: right;\">\n",
       "      <th></th>\n",
       "      <th>listing_id</th>\n",
       "      <th>id</th>\n",
       "      <th>date</th>\n",
       "      <th>reviewer_id</th>\n",
       "      <th>reviewer_name</th>\n",
       "      <th>comments</th>\n",
       "    </tr>\n",
       "  </thead>\n",
       "  <tbody>\n",
       "  </tbody>\n",
       "</table>\n",
       "</div>"
      ],
      "text/plain": [
       "Empty DataFrame\n",
       "Columns: [listing_id, id, date, reviewer_id, reviewer_name, comments]\n",
       "Index: []"
      ]
     },
     "execution_count": 38,
     "metadata": {},
     "output_type": "execute_result"
    }
   ],
   "source": [
    "#checking for duplicate values\n",
    "\n",
    "reviews_details_dups"
   ]
  },
  {
   "cell_type": "code",
   "execution_count": 39,
   "id": "8913d2da",
   "metadata": {},
   "outputs": [
    {
     "data": {
      "text/html": [
       "<div>\n",
       "<style scoped>\n",
       "    .dataframe tbody tr th:only-of-type {\n",
       "        vertical-align: middle;\n",
       "    }\n",
       "\n",
       "    .dataframe tbody tr th {\n",
       "        vertical-align: top;\n",
       "    }\n",
       "\n",
       "    .dataframe thead th {\n",
       "        text-align: right;\n",
       "    }\n",
       "</style>\n",
       "<table border=\"1\" class=\"dataframe\">\n",
       "  <thead>\n",
       "    <tr style=\"text-align: right;\">\n",
       "      <th></th>\n",
       "      <th>listing_id</th>\n",
       "    </tr>\n",
       "  </thead>\n",
       "  <tbody>\n",
       "    <tr>\n",
       "      <th>count</th>\n",
       "      <td>7.310950e+06</td>\n",
       "    </tr>\n",
       "    <tr>\n",
       "      <th>mean</th>\n",
       "      <td>1.541725e+07</td>\n",
       "    </tr>\n",
       "    <tr>\n",
       "      <th>std</th>\n",
       "      <td>8.569190e+06</td>\n",
       "    </tr>\n",
       "    <tr>\n",
       "      <th>min</th>\n",
       "      <td>2.818000e+03</td>\n",
       "    </tr>\n",
       "    <tr>\n",
       "      <th>25%</th>\n",
       "      <td>8.187901e+06</td>\n",
       "    </tr>\n",
       "    <tr>\n",
       "      <th>50%</th>\n",
       "      <td>1.563049e+07</td>\n",
       "    </tr>\n",
       "    <tr>\n",
       "      <th>75%</th>\n",
       "      <td>2.202612e+07</td>\n",
       "    </tr>\n",
       "    <tr>\n",
       "      <th>max</th>\n",
       "      <td>3.058041e+07</td>\n",
       "    </tr>\n",
       "  </tbody>\n",
       "</table>\n",
       "</div>"
      ],
      "text/plain": [
       "         listing_id\n",
       "count  7.310950e+06\n",
       "mean   1.541725e+07\n",
       "std    8.569190e+06\n",
       "min    2.818000e+03\n",
       "25%    8.187901e+06\n",
       "50%    1.563049e+07\n",
       "75%    2.202612e+07\n",
       "max    3.058041e+07"
      ]
     },
     "execution_count": 39,
     "metadata": {},
     "output_type": "execute_result"
    }
   ],
   "source": [
    "#creating descriptive statistics\n",
    "\n",
    "df_cal.describe()"
   ]
  },
  {
   "cell_type": "code",
   "execution_count": 40,
   "id": "a17768dc",
   "metadata": {
    "scrolled": true
   },
   "outputs": [
    {
     "data": {
      "text/html": [
       "<div>\n",
       "<style scoped>\n",
       "    .dataframe tbody tr th:only-of-type {\n",
       "        vertical-align: middle;\n",
       "    }\n",
       "\n",
       "    .dataframe tbody tr th {\n",
       "        vertical-align: top;\n",
       "    }\n",
       "\n",
       "    .dataframe thead th {\n",
       "        text-align: right;\n",
       "    }\n",
       "</style>\n",
       "<table border=\"1\" class=\"dataframe\">\n",
       "  <thead>\n",
       "    <tr style=\"text-align: right;\">\n",
       "      <th></th>\n",
       "      <th>id</th>\n",
       "      <th>host_id</th>\n",
       "      <th>latitude</th>\n",
       "      <th>longitude</th>\n",
       "      <th>price</th>\n",
       "      <th>minimum_nights</th>\n",
       "      <th>number_of_reviews</th>\n",
       "      <th>reviews_per_month</th>\n",
       "      <th>calculated_host_listings_count</th>\n",
       "      <th>availability_365</th>\n",
       "    </tr>\n",
       "  </thead>\n",
       "  <tbody>\n",
       "    <tr>\n",
       "      <th>count</th>\n",
       "      <td>2.003000e+04</td>\n",
       "      <td>2.003000e+04</td>\n",
       "      <td>20030.000000</td>\n",
       "      <td>20030.000000</td>\n",
       "      <td>20030.000000</td>\n",
       "      <td>20030.000000</td>\n",
       "      <td>20030.000000</td>\n",
       "      <td>17624.00000</td>\n",
       "      <td>20030.000000</td>\n",
       "      <td>20030.000000</td>\n",
       "    </tr>\n",
       "    <tr>\n",
       "      <th>mean</th>\n",
       "      <td>1.541725e+07</td>\n",
       "      <td>4.868570e+07</td>\n",
       "      <td>52.365212</td>\n",
       "      <td>4.888977</td>\n",
       "      <td>152.181178</td>\n",
       "      <td>3.328707</td>\n",
       "      <td>21.560459</td>\n",
       "      <td>1.06208</td>\n",
       "      <td>4.734698</td>\n",
       "      <td>59.913679</td>\n",
       "    </tr>\n",
       "    <tr>\n",
       "      <th>std</th>\n",
       "      <td>8.569404e+06</td>\n",
       "      <td>5.649635e+07</td>\n",
       "      <td>0.015996</td>\n",
       "      <td>0.035573</td>\n",
       "      <td>145.828976</td>\n",
       "      <td>12.537419</td>\n",
       "      <td>43.240292</td>\n",
       "      <td>1.33332</td>\n",
       "      <td>22.921886</td>\n",
       "      <td>104.027710</td>\n",
       "    </tr>\n",
       "    <tr>\n",
       "      <th>min</th>\n",
       "      <td>2.818000e+03</td>\n",
       "      <td>3.159000e+03</td>\n",
       "      <td>52.288378</td>\n",
       "      <td>4.753247</td>\n",
       "      <td>0.000000</td>\n",
       "      <td>1.000000</td>\n",
       "      <td>0.000000</td>\n",
       "      <td>0.01000</td>\n",
       "      <td>1.000000</td>\n",
       "      <td>0.000000</td>\n",
       "    </tr>\n",
       "    <tr>\n",
       "      <th>25%</th>\n",
       "      <td>8.188423e+06</td>\n",
       "      <td>8.093516e+06</td>\n",
       "      <td>52.355126</td>\n",
       "      <td>4.863595</td>\n",
       "      <td>96.000000</td>\n",
       "      <td>2.000000</td>\n",
       "      <td>3.000000</td>\n",
       "      <td>0.27000</td>\n",
       "      <td>1.000000</td>\n",
       "      <td>0.000000</td>\n",
       "    </tr>\n",
       "    <tr>\n",
       "      <th>50%</th>\n",
       "      <td>1.563049e+07</td>\n",
       "      <td>2.369450e+07</td>\n",
       "      <td>52.364590</td>\n",
       "      <td>4.886387</td>\n",
       "      <td>125.000000</td>\n",
       "      <td>2.000000</td>\n",
       "      <td>8.000000</td>\n",
       "      <td>0.62000</td>\n",
       "      <td>1.000000</td>\n",
       "      <td>3.000000</td>\n",
       "    </tr>\n",
       "    <tr>\n",
       "      <th>75%</th>\n",
       "      <td>2.202577e+07</td>\n",
       "      <td>6.827535e+07</td>\n",
       "      <td>52.375074</td>\n",
       "      <td>4.908288</td>\n",
       "      <td>175.000000</td>\n",
       "      <td>3.000000</td>\n",
       "      <td>22.000000</td>\n",
       "      <td>1.23000</td>\n",
       "      <td>1.000000</td>\n",
       "      <td>67.000000</td>\n",
       "    </tr>\n",
       "    <tr>\n",
       "      <th>max</th>\n",
       "      <td>3.058041e+07</td>\n",
       "      <td>2.293612e+08</td>\n",
       "      <td>52.424713</td>\n",
       "      <td>5.027689</td>\n",
       "      <td>8500.000000</td>\n",
       "      <td>1001.000000</td>\n",
       "      <td>695.000000</td>\n",
       "      <td>11.85000</td>\n",
       "      <td>208.000000</td>\n",
       "      <td>365.000000</td>\n",
       "    </tr>\n",
       "  </tbody>\n",
       "</table>\n",
       "</div>"
      ],
      "text/plain": [
       "                 id       host_id      latitude     longitude         price  minimum_nights  number_of_reviews  reviews_per_month  calculated_host_listings_count  availability_365\n",
       "count  2.003000e+04  2.003000e+04  20030.000000  20030.000000  20030.000000    20030.000000       20030.000000        17624.00000                    20030.000000      20030.000000\n",
       "mean   1.541725e+07  4.868570e+07     52.365212      4.888977    152.181178        3.328707          21.560459            1.06208                        4.734698         59.913679\n",
       "std    8.569404e+06  5.649635e+07      0.015996      0.035573    145.828976       12.537419          43.240292            1.33332                       22.921886        104.027710\n",
       "min    2.818000e+03  3.159000e+03     52.288378      4.753247      0.000000        1.000000           0.000000            0.01000                        1.000000          0.000000\n",
       "25%    8.188423e+06  8.093516e+06     52.355126      4.863595     96.000000        2.000000           3.000000            0.27000                        1.000000          0.000000\n",
       "50%    1.563049e+07  2.369450e+07     52.364590      4.886387    125.000000        2.000000           8.000000            0.62000                        1.000000          3.000000\n",
       "75%    2.202577e+07  6.827535e+07     52.375074      4.908288    175.000000        3.000000          22.000000            1.23000                        1.000000         67.000000\n",
       "max    3.058041e+07  2.293612e+08     52.424713      5.027689   8500.000000     1001.000000         695.000000           11.85000                      208.000000        365.000000"
      ]
     },
     "execution_count": 40,
     "metadata": {},
     "output_type": "execute_result"
    }
   ],
   "source": [
    "#creating descriptive statistics\n",
    "\n",
    "df_list.describe()"
   ]
  },
  {
   "cell_type": "code",
   "execution_count": 41,
   "id": "d6da1e13",
   "metadata": {
    "scrolled": true
   },
   "outputs": [
    {
     "data": {
      "text/html": [
       "<div>\n",
       "<style scoped>\n",
       "    .dataframe tbody tr th:only-of-type {\n",
       "        vertical-align: middle;\n",
       "    }\n",
       "\n",
       "    .dataframe tbody tr th {\n",
       "        vertical-align: top;\n",
       "    }\n",
       "\n",
       "    .dataframe thead th {\n",
       "        text-align: right;\n",
       "    }\n",
       "</style>\n",
       "<table border=\"1\" class=\"dataframe\">\n",
       "  <thead>\n",
       "    <tr style=\"text-align: right;\">\n",
       "      <th></th>\n",
       "      <th>id</th>\n",
       "      <th>scrape_id</th>\n",
       "      <th>host_id</th>\n",
       "      <th>host_listings_count</th>\n",
       "      <th>host_total_listings_count</th>\n",
       "      <th>latitude</th>\n",
       "      <th>longitude</th>\n",
       "      <th>accommodates</th>\n",
       "      <th>bathrooms</th>\n",
       "      <th>bedrooms</th>\n",
       "      <th>beds</th>\n",
       "      <th>guests_included</th>\n",
       "      <th>minimum_nights</th>\n",
       "      <th>maximum_nights</th>\n",
       "      <th>availability_30</th>\n",
       "      <th>availability_60</th>\n",
       "      <th>availability_90</th>\n",
       "      <th>availability_365</th>\n",
       "      <th>number_of_reviews</th>\n",
       "      <th>review_scores_rating</th>\n",
       "      <th>review_scores_accuracy</th>\n",
       "      <th>review_scores_cleanliness</th>\n",
       "      <th>review_scores_checkin</th>\n",
       "      <th>review_scores_communication</th>\n",
       "      <th>review_scores_location</th>\n",
       "      <th>review_scores_value</th>\n",
       "      <th>calculated_host_listings_count</th>\n",
       "      <th>reviews_per_month</th>\n",
       "    </tr>\n",
       "  </thead>\n",
       "  <tbody>\n",
       "    <tr>\n",
       "      <th>count</th>\n",
       "      <td>2.003000e+04</td>\n",
       "      <td>2.003000e+04</td>\n",
       "      <td>2.003000e+04</td>\n",
       "      <td>20026.000000</td>\n",
       "      <td>20026.000000</td>\n",
       "      <td>20030.000000</td>\n",
       "      <td>20030.000000</td>\n",
       "      <td>20030.000000</td>\n",
       "      <td>20020.000000</td>\n",
       "      <td>20022.00000</td>\n",
       "      <td>20023.000000</td>\n",
       "      <td>20030.000000</td>\n",
       "      <td>20030.000000</td>\n",
       "      <td>20030.000000</td>\n",
       "      <td>20030.000000</td>\n",
       "      <td>20030.000000</td>\n",
       "      <td>20030.000000</td>\n",
       "      <td>20030.000000</td>\n",
       "      <td>20030.000000</td>\n",
       "      <td>17391.000000</td>\n",
       "      <td>17381.000000</td>\n",
       "      <td>17383.000000</td>\n",
       "      <td>17369.000000</td>\n",
       "      <td>17378.000000</td>\n",
       "      <td>17370.000000</td>\n",
       "      <td>17371.000000</td>\n",
       "      <td>20030.000000</td>\n",
       "      <td>17624.00000</td>\n",
       "    </tr>\n",
       "    <tr>\n",
       "      <th>mean</th>\n",
       "      <td>1.541725e+07</td>\n",
       "      <td>2.018121e+13</td>\n",
       "      <td>4.868570e+07</td>\n",
       "      <td>6.105812</td>\n",
       "      <td>6.105812</td>\n",
       "      <td>52.365212</td>\n",
       "      <td>4.888977</td>\n",
       "      <td>2.891912</td>\n",
       "      <td>1.137662</td>\n",
       "      <td>1.44506</td>\n",
       "      <td>1.849223</td>\n",
       "      <td>1.468997</td>\n",
       "      <td>3.328707</td>\n",
       "      <td>631.225711</td>\n",
       "      <td>4.905642</td>\n",
       "      <td>11.411233</td>\n",
       "      <td>18.168597</td>\n",
       "      <td>59.913679</td>\n",
       "      <td>21.560459</td>\n",
       "      <td>94.849520</td>\n",
       "      <td>9.679765</td>\n",
       "      <td>9.465627</td>\n",
       "      <td>9.735563</td>\n",
       "      <td>9.785361</td>\n",
       "      <td>9.421531</td>\n",
       "      <td>9.175004</td>\n",
       "      <td>4.734698</td>\n",
       "      <td>1.06208</td>\n",
       "    </tr>\n",
       "    <tr>\n",
       "      <th>std</th>\n",
       "      <td>8.569404e+06</td>\n",
       "      <td>3.906348e+00</td>\n",
       "      <td>5.649635e+07</td>\n",
       "      <td>30.388516</td>\n",
       "      <td>30.388516</td>\n",
       "      <td>0.015996</td>\n",
       "      <td>0.035573</td>\n",
       "      <td>1.318760</td>\n",
       "      <td>0.793903</td>\n",
       "      <td>0.88568</td>\n",
       "      <td>1.389664</td>\n",
       "      <td>0.937890</td>\n",
       "      <td>12.537419</td>\n",
       "      <td>541.339981</td>\n",
       "      <td>7.942903</td>\n",
       "      <td>17.498603</td>\n",
       "      <td>27.704834</td>\n",
       "      <td>104.027710</td>\n",
       "      <td>43.240292</td>\n",
       "      <td>6.648685</td>\n",
       "      <td>0.685271</td>\n",
       "      <td>0.867973</td>\n",
       "      <td>0.646557</td>\n",
       "      <td>0.599409</td>\n",
       "      <td>0.727931</td>\n",
       "      <td>0.805422</td>\n",
       "      <td>22.921886</td>\n",
       "      <td>1.33332</td>\n",
       "    </tr>\n",
       "    <tr>\n",
       "      <th>min</th>\n",
       "      <td>2.818000e+03</td>\n",
       "      <td>2.018121e+13</td>\n",
       "      <td>3.159000e+03</td>\n",
       "      <td>0.000000</td>\n",
       "      <td>0.000000</td>\n",
       "      <td>52.288378</td>\n",
       "      <td>4.753247</td>\n",
       "      <td>1.000000</td>\n",
       "      <td>0.000000</td>\n",
       "      <td>0.00000</td>\n",
       "      <td>0.000000</td>\n",
       "      <td>1.000000</td>\n",
       "      <td>1.000000</td>\n",
       "      <td>1.000000</td>\n",
       "      <td>0.000000</td>\n",
       "      <td>0.000000</td>\n",
       "      <td>0.000000</td>\n",
       "      <td>0.000000</td>\n",
       "      <td>0.000000</td>\n",
       "      <td>20.000000</td>\n",
       "      <td>2.000000</td>\n",
       "      <td>2.000000</td>\n",
       "      <td>2.000000</td>\n",
       "      <td>2.000000</td>\n",
       "      <td>2.000000</td>\n",
       "      <td>2.000000</td>\n",
       "      <td>1.000000</td>\n",
       "      <td>0.01000</td>\n",
       "    </tr>\n",
       "    <tr>\n",
       "      <th>25%</th>\n",
       "      <td>8.188423e+06</td>\n",
       "      <td>2.018121e+13</td>\n",
       "      <td>8.093516e+06</td>\n",
       "      <td>1.000000</td>\n",
       "      <td>1.000000</td>\n",
       "      <td>52.355126</td>\n",
       "      <td>4.863595</td>\n",
       "      <td>2.000000</td>\n",
       "      <td>1.000000</td>\n",
       "      <td>1.00000</td>\n",
       "      <td>1.000000</td>\n",
       "      <td>1.000000</td>\n",
       "      <td>2.000000</td>\n",
       "      <td>21.000000</td>\n",
       "      <td>0.000000</td>\n",
       "      <td>0.000000</td>\n",
       "      <td>0.000000</td>\n",
       "      <td>0.000000</td>\n",
       "      <td>3.000000</td>\n",
       "      <td>93.000000</td>\n",
       "      <td>9.000000</td>\n",
       "      <td>9.000000</td>\n",
       "      <td>10.000000</td>\n",
       "      <td>10.000000</td>\n",
       "      <td>9.000000</td>\n",
       "      <td>9.000000</td>\n",
       "      <td>1.000000</td>\n",
       "      <td>0.27000</td>\n",
       "    </tr>\n",
       "    <tr>\n",
       "      <th>50%</th>\n",
       "      <td>1.563049e+07</td>\n",
       "      <td>2.018121e+13</td>\n",
       "      <td>2.369450e+07</td>\n",
       "      <td>1.000000</td>\n",
       "      <td>1.000000</td>\n",
       "      <td>52.364590</td>\n",
       "      <td>4.886387</td>\n",
       "      <td>2.000000</td>\n",
       "      <td>1.000000</td>\n",
       "      <td>1.00000</td>\n",
       "      <td>1.000000</td>\n",
       "      <td>1.000000</td>\n",
       "      <td>2.000000</td>\n",
       "      <td>1125.000000</td>\n",
       "      <td>0.000000</td>\n",
       "      <td>0.000000</td>\n",
       "      <td>0.000000</td>\n",
       "      <td>3.000000</td>\n",
       "      <td>8.000000</td>\n",
       "      <td>97.000000</td>\n",
       "      <td>10.000000</td>\n",
       "      <td>10.000000</td>\n",
       "      <td>10.000000</td>\n",
       "      <td>10.000000</td>\n",
       "      <td>10.000000</td>\n",
       "      <td>9.000000</td>\n",
       "      <td>1.000000</td>\n",
       "      <td>0.62000</td>\n",
       "    </tr>\n",
       "    <tr>\n",
       "      <th>75%</th>\n",
       "      <td>2.202577e+07</td>\n",
       "      <td>2.018121e+13</td>\n",
       "      <td>6.827535e+07</td>\n",
       "      <td>1.000000</td>\n",
       "      <td>1.000000</td>\n",
       "      <td>52.375074</td>\n",
       "      <td>4.908288</td>\n",
       "      <td>4.000000</td>\n",
       "      <td>1.000000</td>\n",
       "      <td>2.00000</td>\n",
       "      <td>2.000000</td>\n",
       "      <td>2.000000</td>\n",
       "      <td>3.000000</td>\n",
       "      <td>1125.000000</td>\n",
       "      <td>7.000000</td>\n",
       "      <td>18.000000</td>\n",
       "      <td>28.000000</td>\n",
       "      <td>67.000000</td>\n",
       "      <td>22.000000</td>\n",
       "      <td>100.000000</td>\n",
       "      <td>10.000000</td>\n",
       "      <td>10.000000</td>\n",
       "      <td>10.000000</td>\n",
       "      <td>10.000000</td>\n",
       "      <td>10.000000</td>\n",
       "      <td>10.000000</td>\n",
       "      <td>1.000000</td>\n",
       "      <td>1.23000</td>\n",
       "    </tr>\n",
       "    <tr>\n",
       "      <th>max</th>\n",
       "      <td>3.058041e+07</td>\n",
       "      <td>2.018121e+13</td>\n",
       "      <td>2.293612e+08</td>\n",
       "      <td>698.000000</td>\n",
       "      <td>698.000000</td>\n",
       "      <td>52.424713</td>\n",
       "      <td>5.027689</td>\n",
       "      <td>17.000000</td>\n",
       "      <td>100.500000</td>\n",
       "      <td>12.00000</td>\n",
       "      <td>32.000000</td>\n",
       "      <td>16.000000</td>\n",
       "      <td>1001.000000</td>\n",
       "      <td>9999.000000</td>\n",
       "      <td>30.000000</td>\n",
       "      <td>60.000000</td>\n",
       "      <td>90.000000</td>\n",
       "      <td>365.000000</td>\n",
       "      <td>695.000000</td>\n",
       "      <td>100.000000</td>\n",
       "      <td>10.000000</td>\n",
       "      <td>10.000000</td>\n",
       "      <td>10.000000</td>\n",
       "      <td>10.000000</td>\n",
       "      <td>10.000000</td>\n",
       "      <td>10.000000</td>\n",
       "      <td>208.000000</td>\n",
       "      <td>11.85000</td>\n",
       "    </tr>\n",
       "  </tbody>\n",
       "</table>\n",
       "</div>"
      ],
      "text/plain": [
       "                 id     scrape_id       host_id  host_listings_count  host_total_listings_count      latitude     longitude  accommodates     bathrooms     bedrooms          beds  guests_included  minimum_nights  maximum_nights  availability_30  availability_60  availability_90  availability_365  number_of_reviews  review_scores_rating  review_scores_accuracy  review_scores_cleanliness  review_scores_checkin  review_scores_communication  review_scores_location  review_scores_value  calculated_host_listings_count  reviews_per_month\n",
       "count  2.003000e+04  2.003000e+04  2.003000e+04         20026.000000               20026.000000  20030.000000  20030.000000  20030.000000  20020.000000  20022.00000  20023.000000     20030.000000    20030.000000    20030.000000     20030.000000     20030.000000     20030.000000      20030.000000       20030.000000          17391.000000            17381.000000               17383.000000           17369.000000                 17378.000000            17370.000000         17371.000000                    20030.000000        17624.00000\n",
       "mean   1.541725e+07  2.018121e+13  4.868570e+07             6.105812                   6.105812     52.365212      4.888977      2.891912      1.137662      1.44506      1.849223         1.468997        3.328707      631.225711         4.905642        11.411233        18.168597         59.913679          21.560459             94.849520                9.679765                   9.465627               9.735563                     9.785361                9.421531             9.175004                        4.734698            1.06208\n",
       "std    8.569404e+06  3.906348e+00  5.649635e+07            30.388516                  30.388516      0.015996      0.035573      1.318760      0.793903      0.88568      1.389664         0.937890       12.537419      541.339981         7.942903        17.498603        27.704834        104.027710          43.240292              6.648685                0.685271                   0.867973               0.646557                     0.599409                0.727931             0.805422                       22.921886            1.33332\n",
       "min    2.818000e+03  2.018121e+13  3.159000e+03             0.000000                   0.000000     52.288378      4.753247      1.000000      0.000000      0.00000      0.000000         1.000000        1.000000        1.000000         0.000000         0.000000         0.000000          0.000000           0.000000             20.000000                2.000000                   2.000000               2.000000                     2.000000                2.000000             2.000000                        1.000000            0.01000\n",
       "25%    8.188423e+06  2.018121e+13  8.093516e+06             1.000000                   1.000000     52.355126      4.863595      2.000000      1.000000      1.00000      1.000000         1.000000        2.000000       21.000000         0.000000         0.000000         0.000000          0.000000           3.000000             93.000000                9.000000                   9.000000              10.000000                    10.000000                9.000000             9.000000                        1.000000            0.27000\n",
       "50%    1.563049e+07  2.018121e+13  2.369450e+07             1.000000                   1.000000     52.364590      4.886387      2.000000      1.000000      1.00000      1.000000         1.000000        2.000000     1125.000000         0.000000         0.000000         0.000000          3.000000           8.000000             97.000000               10.000000                  10.000000              10.000000                    10.000000               10.000000             9.000000                        1.000000            0.62000\n",
       "75%    2.202577e+07  2.018121e+13  6.827535e+07             1.000000                   1.000000     52.375074      4.908288      4.000000      1.000000      2.00000      2.000000         2.000000        3.000000     1125.000000         7.000000        18.000000        28.000000         67.000000          22.000000            100.000000               10.000000                  10.000000              10.000000                    10.000000               10.000000            10.000000                        1.000000            1.23000\n",
       "max    3.058041e+07  2.018121e+13  2.293612e+08           698.000000                 698.000000     52.424713      5.027689     17.000000    100.500000     12.00000     32.000000        16.000000     1001.000000     9999.000000        30.000000        60.000000        90.000000        365.000000         695.000000            100.000000               10.000000                  10.000000              10.000000                    10.000000               10.000000            10.000000                      208.000000           11.85000"
      ]
     },
     "execution_count": 41,
     "metadata": {},
     "output_type": "execute_result"
    }
   ],
   "source": [
    "#creating descriptive statistics\n",
    "\n",
    "df_listings_details.describe()"
   ]
  },
  {
   "cell_type": "code",
   "execution_count": 42,
   "id": "05e6d748",
   "metadata": {
    "scrolled": true
   },
   "outputs": [
    {
     "data": {
      "text/html": [
       "<div>\n",
       "<style scoped>\n",
       "    .dataframe tbody tr th:only-of-type {\n",
       "        vertical-align: middle;\n",
       "    }\n",
       "\n",
       "    .dataframe tbody tr th {\n",
       "        vertical-align: top;\n",
       "    }\n",
       "\n",
       "    .dataframe thead th {\n",
       "        text-align: right;\n",
       "    }\n",
       "</style>\n",
       "<table border=\"1\" class=\"dataframe\">\n",
       "  <thead>\n",
       "    <tr style=\"text-align: right;\">\n",
       "      <th></th>\n",
       "      <th>neighbourhood</th>\n",
       "    </tr>\n",
       "  </thead>\n",
       "  <tbody>\n",
       "    <tr>\n",
       "      <th>count</th>\n",
       "      <td>22</td>\n",
       "    </tr>\n",
       "    <tr>\n",
       "      <th>unique</th>\n",
       "      <td>22</td>\n",
       "    </tr>\n",
       "    <tr>\n",
       "      <th>top</th>\n",
       "      <td>Bijlmer-Centrum</td>\n",
       "    </tr>\n",
       "    <tr>\n",
       "      <th>freq</th>\n",
       "      <td>1</td>\n",
       "    </tr>\n",
       "  </tbody>\n",
       "</table>\n",
       "</div>"
      ],
      "text/plain": [
       "          neighbourhood\n",
       "count                22\n",
       "unique               22\n",
       "top     Bijlmer-Centrum\n",
       "freq                  1"
      ]
     },
     "execution_count": 42,
     "metadata": {},
     "output_type": "execute_result"
    }
   ],
   "source": [
    "#creating descriptive statistics\n",
    "\n",
    "df_neighbour.describe()"
   ]
  },
  {
   "cell_type": "code",
   "execution_count": 43,
   "id": "13a4890a",
   "metadata": {},
   "outputs": [
    {
     "data": {
      "text/html": [
       "<div>\n",
       "<style scoped>\n",
       "    .dataframe tbody tr th:only-of-type {\n",
       "        vertical-align: middle;\n",
       "    }\n",
       "\n",
       "    .dataframe tbody tr th {\n",
       "        vertical-align: top;\n",
       "    }\n",
       "\n",
       "    .dataframe thead th {\n",
       "        text-align: right;\n",
       "    }\n",
       "</style>\n",
       "<table border=\"1\" class=\"dataframe\">\n",
       "  <thead>\n",
       "    <tr style=\"text-align: right;\">\n",
       "      <th></th>\n",
       "      <th>listing_id</th>\n",
       "    </tr>\n",
       "  </thead>\n",
       "  <tbody>\n",
       "    <tr>\n",
       "      <th>count</th>\n",
       "      <td>4.305090e+05</td>\n",
       "    </tr>\n",
       "    <tr>\n",
       "      <th>mean</th>\n",
       "      <td>9.537416e+06</td>\n",
       "    </tr>\n",
       "    <tr>\n",
       "      <th>std</th>\n",
       "      <td>7.645556e+06</td>\n",
       "    </tr>\n",
       "    <tr>\n",
       "      <th>min</th>\n",
       "      <td>2.818000e+03</td>\n",
       "    </tr>\n",
       "    <tr>\n",
       "      <th>25%</th>\n",
       "      <td>2.481241e+06</td>\n",
       "    </tr>\n",
       "    <tr>\n",
       "      <th>50%</th>\n",
       "      <td>7.814872e+06</td>\n",
       "    </tr>\n",
       "    <tr>\n",
       "      <th>75%</th>\n",
       "      <td>1.546232e+07</td>\n",
       "    </tr>\n",
       "    <tr>\n",
       "      <th>max</th>\n",
       "      <td>3.055009e+07</td>\n",
       "    </tr>\n",
       "  </tbody>\n",
       "</table>\n",
       "</div>"
      ],
      "text/plain": [
       "         listing_id\n",
       "count  4.305090e+05\n",
       "mean   9.537416e+06\n",
       "std    7.645556e+06\n",
       "min    2.818000e+03\n",
       "25%    2.481241e+06\n",
       "50%    7.814872e+06\n",
       "75%    1.546232e+07\n",
       "max    3.055009e+07"
      ]
     },
     "execution_count": 43,
     "metadata": {},
     "output_type": "execute_result"
    }
   ],
   "source": [
    "#creating descriptive statistics\n",
    "\n",
    "df_reviews.describe()"
   ]
  },
  {
   "cell_type": "code",
   "execution_count": 44,
   "id": "a3f50353",
   "metadata": {},
   "outputs": [
    {
     "data": {
      "text/html": [
       "<div>\n",
       "<style scoped>\n",
       "    .dataframe tbody tr th:only-of-type {\n",
       "        vertical-align: middle;\n",
       "    }\n",
       "\n",
       "    .dataframe tbody tr th {\n",
       "        vertical-align: top;\n",
       "    }\n",
       "\n",
       "    .dataframe thead th {\n",
       "        text-align: right;\n",
       "    }\n",
       "</style>\n",
       "<table border=\"1\" class=\"dataframe\">\n",
       "  <thead>\n",
       "    <tr style=\"text-align: right;\">\n",
       "      <th></th>\n",
       "      <th>listing_id</th>\n",
       "      <th>id</th>\n",
       "      <th>reviewer_id</th>\n",
       "    </tr>\n",
       "  </thead>\n",
       "  <tbody>\n",
       "    <tr>\n",
       "      <th>count</th>\n",
       "      <td>4.318300e+05</td>\n",
       "      <td>4.318300e+05</td>\n",
       "      <td>4.318300e+05</td>\n",
       "    </tr>\n",
       "    <tr>\n",
       "      <th>mean</th>\n",
       "      <td>9.540278e+06</td>\n",
       "      <td>1.676551e+08</td>\n",
       "      <td>5.844055e+07</td>\n",
       "    </tr>\n",
       "    <tr>\n",
       "      <th>std</th>\n",
       "      <td>7.646134e+06</td>\n",
       "      <td>1.027225e+08</td>\n",
       "      <td>5.424683e+07</td>\n",
       "    </tr>\n",
       "    <tr>\n",
       "      <th>min</th>\n",
       "      <td>2.818000e+03</td>\n",
       "      <td>1.191000e+03</td>\n",
       "      <td>4.370000e+02</td>\n",
       "    </tr>\n",
       "    <tr>\n",
       "      <th>25%</th>\n",
       "      <td>2.482541e+06</td>\n",
       "      <td>7.596344e+07</td>\n",
       "      <td>1.533860e+07</td>\n",
       "    </tr>\n",
       "    <tr>\n",
       "      <th>50%</th>\n",
       "      <td>7.815853e+06</td>\n",
       "      <td>1.591030e+08</td>\n",
       "      <td>3.931767e+07</td>\n",
       "    </tr>\n",
       "    <tr>\n",
       "      <th>75%</th>\n",
       "      <td>1.546254e+07</td>\n",
       "      <td>2.565866e+08</td>\n",
       "      <td>8.973084e+07</td>\n",
       "    </tr>\n",
       "    <tr>\n",
       "      <th>max</th>\n",
       "      <td>3.055009e+07</td>\n",
       "      <td>3.559969e+08</td>\n",
       "      <td>2.288387e+08</td>\n",
       "    </tr>\n",
       "  </tbody>\n",
       "</table>\n",
       "</div>"
      ],
      "text/plain": [
       "         listing_id            id   reviewer_id\n",
       "count  4.318300e+05  4.318300e+05  4.318300e+05\n",
       "mean   9.540278e+06  1.676551e+08  5.844055e+07\n",
       "std    7.646134e+06  1.027225e+08  5.424683e+07\n",
       "min    2.818000e+03  1.191000e+03  4.370000e+02\n",
       "25%    2.482541e+06  7.596344e+07  1.533860e+07\n",
       "50%    7.815853e+06  1.591030e+08  3.931767e+07\n",
       "75%    1.546254e+07  2.565866e+08  8.973084e+07\n",
       "max    3.055009e+07  3.559969e+08  2.288387e+08"
      ]
     },
     "execution_count": 44,
     "metadata": {},
     "output_type": "execute_result"
    }
   ],
   "source": [
    "#creating descriptive statistics\n",
    "\n",
    "reviews_details.describe()"
   ]
  },
  {
   "cell_type": "code",
   "execution_count": 47,
   "id": "647a4e34",
   "metadata": {},
   "outputs": [],
   "source": [
    "#exporting cleaned dataframes to prepared data folder\n",
    "\n",
    "df_cal.to_csv(os.path.join(path, '02 Data','Prepared Data', 'calendar_clean.csv'), index = False)\n",
    "\n",
    "df_list.to_csv(os.path.join(path, '02 Data','Prepared Data', 'listings_clean.csv'), index = False)\n",
    "\n",
    "df_listings_details.to_csv(os.path.join(path, '02 Data','Prepared Data', 'listings_details_clean.csv'), index = False)\n",
    "\n",
    "df_neighbour.to_csv(os.path.join(path, '02 Data','Prepared Data', 'neighbourhood_clean.csv'), index = False)\n",
    "\n",
    "df_reviews.to_csv(os.path.join(path, '02 Data','Prepared Data', 'reviews_clean.csv'), index = False)\n",
    "\n",
    "#reviews_details did not have to be cleaned"
   ]
  }
 ],
 "metadata": {
  "kernelspec": {
   "display_name": "Python 3 (ipykernel)",
   "language": "python",
   "name": "python3"
  },
  "language_info": {
   "codemirror_mode": {
    "name": "ipython",
    "version": 3
   },
   "file_extension": ".py",
   "mimetype": "text/x-python",
   "name": "python",
   "nbconvert_exporter": "python",
   "pygments_lexer": "ipython3",
   "version": "3.11.3"
  }
 },
 "nbformat": 4,
 "nbformat_minor": 5
}
